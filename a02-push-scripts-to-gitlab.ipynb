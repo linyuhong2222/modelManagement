{
 "cells": [
  {
   "cell_type": "markdown",
   "metadata": {},
   "source": [
    "# a02. Push Scripts to Gitlab\n",
    "## Push the Required Scripts Which Will be Used for Model Retraining and Scoring \n",
    "\n",
    "---\n",
    "\n",
    "## Table of Content\n",
    "1. [新增重新訓練程式碼 - retrain.py](#1.-新增重新訓練程式碼---retrain.py)<br>\n",
    "2. [新增模型評分程式碼 - score.py](#2.-模型評分程式碼---score.py)<br>\n",
    "3. [Push 到 Gitlab Repository](#3.-Push-到-Gitlab-Repository)<br>\n",
    "3-1. 新增程式碼檔案<br>\n",
    "3-2. 新增專案分支<br>\n",
    "3-3. 新增merge request<br>\n",
    "3-4. 接受merge request<br>\n",
    "\n",
    "## Reference\n",
    "1. [Python gitlab Package - Overview](https://github.com/python-gitlab/python-gitlab)\n",
    "2. [Python gitlab Package - Getting Started](https://python-gitlab.readthedocs.io/en/stable/api-usage.html?highlight=get%20started)\n",
    "3. [Gitlab Docs - API resources](https://docs.gitlab.com/ee/api/api_resources.html)"
   ]
  },
  {
   "cell_type": "markdown",
   "metadata": {},
   "source": [
    "---\n",
    "# 1. 新增重新訓練程式碼 - retrain.py\n",
    "[Top](#Table-of-Content)"
   ]
  },
  {
   "cell_type": "code",
   "execution_count": null,
   "metadata": {},
   "outputs": [],
   "source": [
    "from datetime import datetime, date\n",
    "time_now = datetime.now().strftime(\"%Y%m%d-%H%M\")"
   ]
  },
  {
   "cell_type": "code",
   "execution_count": 39,
   "metadata": {},
   "outputs": [
    {
     "name": "stdout",
     "output_type": "stream",
     "text": [
      "Overwriting ./retrain.py\n"
     ]
    }
   ],
   "source": [
    "%%writefile ./retrain.py\n",
    "import pandas\n",
    "import sasctl\n",
    "import pickle\n",
    "import pkg_resources\n",
    "from sasctl.services import model_repository\n",
    "from sklearn.ensemble import GradientBoostingClassifier\n",
    "from sklearn.model_selection import train_test_split \n",
    "\n",
    "#00 setup\n",
    "model_id = '43fb0ca8-77da-4a08-b1c9-23e9eb8cd49f'\n",
    "data = pd.read_csv('https://support.sas.com/documentation/onlinedoc/viya/exampledatasets/hmeq.csv')\n",
    "sas_session = sasctl.Session('10.249.6.39', 'modelDeveloper', 'demopw', verify_ssl = False)\n",
    "\n",
    "#01 create new minor version\n",
    "model_repository.create_model_version(model = model_id, minor = True)\n",
    "current_model_version = model_repository.get_model(model_id)['modelVersionName'].replace('.', '_')\n",
    "\n",
    "\n",
    "#02 delete all the model artifacts\n",
    "model_repository.delete_model_contents(model = model_id)\n",
    "\n",
    "\n",
    "#03 train a new model\n",
    "y = data['BAD']\n",
    "X = data.select_dtypes(exclude = ['object'])\n",
    "del X['BAD']\n",
    "\n",
    "X = X.fillna(0) \n",
    "X_train, X_test, y_train, y_test = train_test_split(X, y, test_size = 0.20, random_state = 2021)\n",
    "\n",
    "model_gb = GradientBoostingClassifier()\n",
    "model_gb.fit(X_train, y_train)\n",
    "\n",
    "\n",
    "#04 upload the new model into MM\n",
    "with open(f'./model_{current_model_version}.pkl', 'wb') as file:\n",
    "    pickle.dump(model_gb, file)\n",
    "\n",
    "myModel_pkl = open(f'./model_{current_model_version}.pkl', 'rb')\n",
    "model_repository.add_model_content(model = model_id, file = myModel_pkl, name = f'./model_{current_model_version}.pkl')"
   ]
  },
  {
   "cell_type": "markdown",
   "metadata": {},
   "source": [
    "---\n",
    "# 2. 模型評分程式碼 - score.py\n",
    "[Top](#Table-of-Content)"
   ]
  },
  {
   "cell_type": "code",
   "execution_count": 2,
   "metadata": {},
   "outputs": [
    {
     "name": "stdout",
     "output_type": "stream",
     "text": [
      "Writing ./score.py\n"
     ]
    }
   ],
   "source": [
    "%%writefile ./score.py\n",
    "import pandas\n",
    "\n",
    "\n",
    "#01 list to dataframe\n",
    "input_from_user = list(X_test.iloc[1])\n",
    "input_df = pandas.DataFrame([input_from_user], columns=('LOAN', 'MORTDUE', 'VALUE', 'YOJ', 'DEROG', 'DELINQ', 'CLAGE', 'NINQ', 'CLNO', 'DEBTINC'))\n",
    "\n",
    "\n",
    "#02 in case, impute missing values \n",
    "input_df = input_df.fillna(0) \n",
    "\n",
    "\n",
    "#03 execute model inference\n",
    "proba = model_gb.predict_proba(input_df)\n",
    "proba_df = pandas.DataFrame(proba, columns=('P_bad', 'P_good'))                                    "
   ]
  },
  {
   "cell_type": "markdown",
   "metadata": {},
   "source": [
    "---\n",
    "# 3. Push 到 Gitlab Repository\n",
    "[Top](#Table-of-Content)"
   ]
  },
  {
   "cell_type": "markdown",
   "metadata": {},
   "source": [
    "### 3-1. 新增程式碼檔案"
   ]
  },
  {
   "cell_type": "code",
   "execution_count": null,
   "metadata": {},
   "outputs": [],
   "source": [
    "import gitlab\n",
    "\n",
    "with open('./retrain.py', 'r') as my_file:\n",
    "    file_content = my_file.read()\n",
    "\n",
    "f = project.files.create(\n",
    "    {'file_path': 'retrain.py',\n",
    "     'branch': 'master',\n",
    "     'content': file_content,\n",
    "     'author_email': 'linyuhong2222@gmail.com',\n",
    "     'author_name': \"fkl\",\n",
    "     #'encoding': 'utf-8',\n",
    "     'commit_message': 'Commit message here.'})\n",
    "\n",
    "\n",
    "\n",
    "with open('./score.py', 'r') as my_file:\n",
    "    file_content = my_file.read()\n",
    "\n",
    "f = project.files.create(\n",
    "    {'file_path': 'score.py',\n",
    "     'branch': 'master',\n",
    "     'content': file_content,\n",
    "     'author_email': 'linyuhong2222@gmail.com',\n",
    "     'author_name': \"fkl\",\n",
    "     #'encoding': 'utf-8',\n",
    "     'commit_message': 'Commit message here.'})"
   ]
  },
  {
   "cell_type": "markdown",
   "metadata": {},
   "source": [
    "### 3-2. 新增專案分支"
   ]
  },
  {
   "cell_type": "code",
   "execution_count": 23,
   "metadata": {},
   "outputs": [],
   "source": [
    "gl = gitlab.Gitlab(url = 'https://gitlab.com/', private_token = 'ynJH8ppLyiB_2L5sT2NY')\n",
    "\n",
    "project = gl.projects.get('24272994')\n",
    "\n",
    "branch = project.branches.create({'branch': 'branch' + , 'ref': 'master'})\n",
    "\n",
    "data = {\n",
    "    'branch': 'branch' + ,\n",
    "    'commit_message': 'blah blah blah',\n",
    "    'actions': [\n",
    "        {\n",
    "            'action': 'update',\n",
    "            'file_path': 'retrain.py',\n",
    "            'content': open('./retrain.py', 'r').read(),\n",
    "        }\n",
    "    ]\n",
    "}\n",
    "\n",
    "commit = project.commits.create(data)\n",
    "\n",
    "# See https://docs.gitlab.com/ce/api/commits.html#create-a-commit-with-multiple-files-and-actions \n",
    "# for actions detail"
   ]
  },
  {
   "cell_type": "markdown",
   "metadata": {},
   "source": [
    "### 3-3. 新增merge request"
   ]
  },
  {
   "cell_type": "code",
   "execution_count": 24,
   "metadata": {},
   "outputs": [
    {
     "data": {
      "text/plain": [
       "90887925"
      ]
     },
     "execution_count": 24,
     "metadata": {},
     "output_type": "execute_result"
    }
   ],
   "source": [
    "mr = project.mergerequests.create({\n",
    "    'source_branch': 'ddd',\n",
    "    'target_branch': 'master',\n",
    "    'title': 'merge request from frank'})\n",
    "\n",
    "# mr.delete()\n",
    "\n",
    "mr.id"
   ]
  },
  {
   "cell_type": "code",
   "execution_count": 25,
   "metadata": {},
   "outputs": [
    {
     "data": {
      "text/plain": [
       "[<ProjectMergeRequest iid:3>,\n",
       " <ProjectMergeRequest iid:2>,\n",
       " <ProjectMergeRequest iid:1>]"
      ]
     },
     "execution_count": 25,
     "metadata": {},
     "output_type": "execute_result"
    }
   ],
   "source": [
    "mrs = project.mergerequests.list(state='all', order_by='updated_at')\n",
    "mrs\n",
    "\n",
    "# state: state of the MR. It can be one of all, merged, opened or closed\n",
    "# order_by: sort by created_at or updated_at"
   ]
  },
  {
   "cell_type": "markdown",
   "metadata": {},
   "source": [
    "### 3-4. 接受merge request"
   ]
  },
  {
   "cell_type": "code",
   "execution_count": null,
   "metadata": {},
   "outputs": [],
   "source": [
    "mr.merge()"
   ]
  },
  {
   "cell_type": "markdown",
   "metadata": {},
   "source": [
    "---"
   ]
  }
 ],
 "metadata": {
  "kernelspec": {
   "display_name": "Python 3",
   "language": "python",
   "name": "python3"
  },
  "language_info": {
   "codemirror_mode": {
    "name": "ipython",
    "version": 3
   },
   "file_extension": ".py",
   "mimetype": "text/x-python",
   "name": "python",
   "nbconvert_exporter": "python",
   "pygments_lexer": "ipython3",
   "version": "3.8.5"
  }
 },
 "nbformat": 4,
 "nbformat_minor": 2
}
