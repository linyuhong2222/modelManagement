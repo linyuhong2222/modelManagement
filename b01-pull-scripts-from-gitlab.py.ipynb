{
 "cells": [
  {
   "cell_type": "markdown",
   "metadata": {},
   "source": [
    "# b01. Pull Scripts from Gitlab\n",
    "## Pull the Required Scripts Which Will be Used for Model Retraining and Scoring \n",
    "\n",
    "---\n",
    "\n",
    "## Reference\n",
    "1. [Python gitlab Package - Overview](https://github.com/python-gitlab/python-gitlab)\n",
    "2. [Python gitlab Package - Getting Started](https://python-gitlab.readthedocs.io/en/stable/api-usage.html?highlight=get%20started)\n",
    "3. [Gitlab Docs - API resources](https://docs.gitlab.com/ee/api/api_resources.html)\n",
    "4. [Python sasctl Package - Overview](https://github.com/sassoftware/python-sasctl)\n",
    "5. [Python sasctl Package - User Guide](https://sassoftware.github.io/python-sasctl/index.html)\n",
    "6. [SAS Model Manager - REST APIs](https://developer.sas.com/apis/rest/DecisionManagement/)\n",
    "7. [SAS Model Manager - REST APIs Examples](https://github.com/sassoftware/devsascom-rest-api-samples/tree/master/DecisionManagement)"
   ]
  },
  {
   "cell_type": "markdown",
   "metadata": {},
   "source": [
    "### 1. 取得特定模型的gitlab access token"
   ]
  },
  {
   "cell_type": "code",
   "execution_count": 55,
   "metadata": {},
   "outputs": [],
   "source": [
    "#SAS API\n",
    "import sasctl\n",
    "from sasctl import Session, register_model\n",
    "from sasctl.services import model_repository\n",
    "\n",
    "#Gitlab API\n",
    "import gitlab"
   ]
  },
  {
   "cell_type": "code",
   "execution_count": 69,
   "metadata": {},
   "outputs": [
    {
     "name": "stderr",
     "output_type": "stream",
     "text": [
      "C:\\ProgramData\\Anaconda3\\lib\\site-packages\\urllib3\\connectionpool.py:981: InsecureRequestWarning: Unverified HTTPS request is being made to host '10.249.6.39'. Adding certificate verification is strongly advised. See: https://urllib3.readthedocs.io/en/latest/advanced-usage.html#ssl-warnings\n",
      "  warnings.warn(\n"
     ]
    },
    {
     "name": "stdout",
     "output_type": "stream",
     "text": [
      "Sklearn Decision Tree's model ID: 4c9e48c6-83fe-496c-9acd-692576f48b29\n",
      "\n",
      "gitlab-access-token: ynJH8ppLyiB_2L5sT2NY\n",
      "\n"
     ]
    }
   ],
   "source": [
    "model_name = 'Sklearn Decision Tree'\n",
    "model_property = 'gitlab-access-token'\n",
    "\n",
    "with Session('10.249.6.39', 'modelImplementor', 'demopw', verify_ssl = False):    \n",
    "    model_list = model_repository.list_models()\n",
    "    \n",
    "    model_id = next((model.get('id') for model in model_list if model.get('name') == model_name), None)\n",
    "    \n",
    "    model = model_repository.get_model(item = model_id)\n",
    "    \n",
    "    user_defined_properties = model.get('properties')\n",
    "\n",
    "    gitlab_access_token = next((item.get('value') for item in user_defined_properties if item.get('name') == model_property), None)\n",
    "\n",
    "\n",
    "print(f'{model}\\'s model ID: {model_id}\\n')\n",
    "print(f'{model_property}: {gitlab_access_token}\\n')"
   ]
  },
  {
   "cell_type": "markdown",
   "metadata": {},
   "source": [
    "### 2. Pull gitlab的retrain.py、score.py"
   ]
  },
  {
   "cell_type": "code",
   "execution_count": 56,
   "metadata": {},
   "outputs": [
    {
     "data": {
      "text/plain": [
       "[{'id': '3389bb0aac55af218f7a0a0d3593a4e7f3e942f1', 'name': 'README.md', 'type': 'blob', 'path': 'README.md', 'mode': '100644'}, {'id': 'cdbc8c9cfe5da62c79348111a21c43fec47b37cb', 'name': 'retrain.py', 'type': 'blob', 'path': 'retrain.py', 'mode': '100644'}, {'id': 'eb9f154d68be8d6b844debe30ae0b7385265a0d8', 'name': 'score.py', 'type': 'blob', 'path': 'score.py', 'mode': '100644'}]"
      ]
     },
     "execution_count": 56,
     "metadata": {},
     "output_type": "execute_result"
    }
   ],
   "source": [
    "project_name = 'demo project 1'\n",
    "gl = gitlab.Gitlab(url = 'https://gitlab.com/', private_token = gitlab_access_token)\n",
    "project_list = gl.projects.list(owned = True)\n",
    "project_id = next((project.id for project in project_list if project.name == project_name), None)\n",
    "project = gl.projects.get(project_id)\n",
    "\n",
    "file_list = project.repository_tree()\n",
    "retrain_py = next((file for file in file_list if file.get('name') == 'retrain.py'), None)\n",
    "retrain_py_id = retrain_py.get('id')\n",
    "retrain_py_blob = project.repository_raw_blob(sha = retrain_py_id)\n",
    "\n",
    "score_py = next((file for file in file_list if file.get('name') == 'score.py'), None)\n",
    "score_py_id = score_py.get('id')\n",
    "score_py_blob = project.repository_raw_blob(sha = score_py_id)"
   ]
  },
  {
   "cell_type": "markdown",
   "metadata": {},
   "source": [
    "### 3. retrain.py、score.py傳至model repository"
   ]
  },
  {
   "cell_type": "code",
   "execution_count": 78,
   "metadata": {},
   "outputs": [
    {
     "name": "stderr",
     "output_type": "stream",
     "text": [
      "C:\\ProgramData\\Anaconda3\\lib\\site-packages\\urllib3\\connectionpool.py:981: InsecureRequestWarning: Unverified HTTPS request is being made to host '10.249.6.39'. Adding certificate verification is strongly advised. See: https://urllib3.readthedocs.io/en/latest/advanced-usage.html#ssl-warnings\n",
      "  warnings.warn(\n"
     ]
    }
   ],
   "source": [
    "with Session('10.249.6.39', 'modelImplementor', 'demopw', verify_ssl = False):    \n",
    "    model_list = model_repository.list_models()\n",
    "    model_id = next((model.get('id') for model in model_list if model.get('name') == model_name), None)\n",
    "    model = model_repository.get_model(item = model_id)\n",
    "\n",
    "    model_repository.add_model_content(\n",
    "        model = model,\n",
    "        file = retrain_py_blob,\n",
    "        name = 'retrain.py',\n",
    "        role = 'Python Script'\n",
    "    )\n",
    "\n",
    "    model_repository.add_model_content(\n",
    "        model = model,\n",
    "        file = score_py_blob,\n",
    "        name = 'score.py',\n",
    "        role = 'Python Script'\n",
    "    )"
   ]
  }
 ],
 "metadata": {
  "kernelspec": {
   "display_name": "Python 3",
   "language": "python",
   "name": "python3"
  },
  "language_info": {
   "codemirror_mode": {
    "name": "ipython",
    "version": 3
   },
   "file_extension": ".py",
   "mimetype": "text/x-python",
   "name": "python",
   "nbconvert_exporter": "python",
   "pygments_lexer": "ipython3",
   "version": "3.8.5"
  }
 },
 "nbformat": 4,
 "nbformat_minor": 4
}
