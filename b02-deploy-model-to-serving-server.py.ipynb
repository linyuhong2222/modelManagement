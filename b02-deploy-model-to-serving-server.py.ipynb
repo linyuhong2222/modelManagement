{
 "cells": [
  {
   "cell_type": "markdown",
   "metadata": {},
   "source": [
    "# b02. Deploy Model to Serving Server\n",
    "## \n",
    "\n",
    "---\n",
    "\n",
    "## Reference\n",
    "1. [Python sasctl Package - Overview](https://github.com/sassoftware/python-sasctl)\n",
    "2. [Python sasctl Package - User Guide](https://sassoftware.github.io/python-sasctl/index.html)\n",
    "3. [SAS Model Manager - REST APIs](https://developer.sas.com/apis/rest/DecisionManagement/)\n",
    "4. [SAS Model Manager - REST APIs Examples](https://github.com/sassoftware/devsascom-rest-api-samples/tree/master/DecisionManagement)"
   ]
  },
  {
   "cell_type": "markdown",
   "metadata": {},
   "source": [
    "### 1. 新增連線 (Connecting to SAS MM)"
   ]
  },
  {
   "cell_type": "code",
   "execution_count": 1,
   "metadata": {},
   "outputs": [
    {
     "name": "stderr",
     "output_type": "stream",
     "text": [
      "C:\\ProgramData\\Anaconda3\\lib\\site-packages\\urllib3\\connectionpool.py:981: InsecureRequestWarning: Unverified HTTPS request is being made to host '10.249.6.39'. Adding certificate verification is strongly advised. See: https://urllib3.readthedocs.io/en/latest/advanced-usage.html#ssl-warnings\n",
      "  warnings.warn(\n"
     ]
    }
   ],
   "source": [
    "import pickle\n",
    "import sasctl\n",
    "from sasctl import Session, register_model\n",
    "from sasctl.services import model_repository, files\n",
    "from pprint import pprint\n",
    "\n",
    "sas_session = Session('10.249.6.39', 'modelImplementor', 'demopw', verify_ssl = False)"
   ]
  },
  {
   "cell_type": "markdown",
   "metadata": {},
   "source": [
    "### 2. 給定模型名稱，取得使用中版本的model.pkl和score.py"
   ]
  },
  {
   "cell_type": "code",
   "execution_count": 49,
   "metadata": {},
   "outputs": [
    {
     "name": "stderr",
     "output_type": "stream",
     "text": [
      "C:\\ProgramData\\Anaconda3\\lib\\site-packages\\urllib3\\connectionpool.py:981: InsecureRequestWarning: Unverified HTTPS request is being made to host '10.249.6.39'. Adding certificate verification is strongly advised. See: https://urllib3.readthedocs.io/en/latest/advanced-usage.html#ssl-warnings\n",
      "  warnings.warn(\n"
     ]
    },
    {
     "data": {
      "text/plain": [
       "DecisionTreeClassifier()"
      ]
     },
     "execution_count": 49,
     "metadata": {},
     "output_type": "execute_result"
    }
   ],
   "source": [
    "# 01. get the desired project object\n",
    "project_name = 'hmeq_project'\n",
    "project_list = model_repository.list_projects()\n",
    "project_id = next((i.get('id') for i in project_list if i.get('name') == project_name), None)\n",
    "myProject = model_repository.get_project(item = project_id)\n",
    "\n",
    "# 02. get the champion model's name in this project\n",
    "model_name = myProject.get('championModelName')\n",
    "file_list = model_repository.get_model_contents(model = model_name)\n",
    "\n",
    "# 03 download the model pickle file associated with the champion model\n",
    "model_pickle_name = next((i.get('name') for i in file_list if '.pkl' in i.get('name')), None)\n",
    "model_pickle_obj = files.get_file(item = model_pickle_name) # Return a file instance - A dictionary containing the file attributes or None.\n",
    "model_pickle = files.get_file_content(file = model_pickle_obj) # file – Name or file information as returned by get_file().\n",
    "\n",
    "with open('./model.pkl', 'wb') as bw:\n",
    "    bw.write(model_pickle)\n",
    "    \n",
    "# 04 read the pickled representation of an object\n",
    "model = pickle.loads(model_pickle)\n",
    "model"
   ]
  }
 ],
 "metadata": {
  "kernelspec": {
   "display_name": "Python 3",
   "language": "python",
   "name": "python3"
  },
  "language_info": {
   "codemirror_mode": {
    "name": "ipython",
    "version": 3
   },
   "file_extension": ".py",
   "mimetype": "text/x-python",
   "name": "python",
   "nbconvert_exporter": "python",
   "pygments_lexer": "ipython3",
   "version": "3.8.5"
  }
 },
 "nbformat": 4,
 "nbformat_minor": 4
}
